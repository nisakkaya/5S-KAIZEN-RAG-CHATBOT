{
  "nbformat": 4,
  "nbformat_minor": 0,
  "metadata": {
    "colab": {
      "provenance": [],
      "gpuType": "T4"
    },
    "kernelspec": {
      "name": "python3",
      "display_name": "Python 3"
    },
    "language_info": {
      "name": "python"
    },
    "accelerator": "GPU"
  },
  "cells": [
    {
      "cell_type": "code",
      "source": [
        "# ============================================\n",
        "# 1️⃣ Gerekli kütüphaneler\n",
        "# ============================================\n",
        "!pip install -q pdfplumber tqdm chromadb google-generativeai numpy langchain gradio\n",
        "\n",
        "import os\n",
        "import pdfplumber\n",
        "import numpy as np\n",
        "import chromadb\n",
        "import google.generativeai as genai\n",
        "import time\n",
        "import gradio as gr\n",
        "\n",
        "# ============================================\n",
        "# 2️⃣ API Key ayarı\n",
        "# ============================================\n",
        "from google.colab import userdata\n",
        "API_KEY = userdata.get('API_KEY')\n",
        "genai.configure(api_key=API_KEY)\n",
        "\n",
        "EMBED_MODEL = \"models/text-embedding-004\"\n",
        "LLM_MODEL = \"models/gemini-2.5-flash\"\n",
        "\n",
        "# ============================================\n",
        "# 3️⃣ PDF'i oku ve chunk'lara böl\n",
        "# ============================================\n",
        "# PDF oku\n",
        "# 1️⃣ Google Drive'ı bağla\n",
        "from google.colab import drive\n",
        "drive.mount('/content/drive')\n",
        "\n",
        "# 2️⃣ PDF dosya yolunu ayarla\n",
        "pdf_path = \"/content/The Ultimate Guide to 5S and 5S Training _ KAIZEN™ Article.pdf\"\n",
        "\n",
        "# 3️⃣ PDF'i oku ve chunk'lara böl\n",
        "import pdfplumber\n",
        "\n",
        "with pdfplumber.open(pdf_path) as pdf:\n",
        "    text = \"\\n\".join([page.extract_text() for page in pdf.pages if page.extract_text()])\n",
        "\n",
        "def chunk_text(text, size=500, overlap=50):\n",
        "    tokens = text.split()\n",
        "    chunks = []\n",
        "    i = 0\n",
        "    while i < len(tokens):\n",
        "        chunks.append(\" \".join(tokens[i:i+size]))\n",
        "        i += size - overlap\n",
        "    return chunks\n",
        "\n",
        "chunks = chunk_text(text)\n",
        "print(f\"📄 PDF {len(chunks)} chunk'a bölündü.\")\n",
        "\n",
        "\n",
        "# ============================================\n",
        "# 4️⃣ Embedding oluştur ve Chroma'ya kaydet\n",
        "# ============================================\n",
        "collection_name = \"kaizen_5s_rag\"\n",
        "client = chromadb.PersistentClient(path=\"./chroma_db\")\n",
        "collection = client.get_or_create_collection(name=collection_name)\n",
        "\n",
        "if collection.count() == 0:\n",
        "    print(\"⏳ Embeddingler oluşturuluyor ve Chroma'ya ekleniyor...\")\n",
        "    for i, chunk in enumerate(chunks):\n",
        "        try:\n",
        "            result = genai.embed_content(model=EMBED_MODEL, content=chunk)\n",
        "            emb = np.array(result[\"embedding\"], dtype=\"float32\")\n",
        "            collection.add(\n",
        "                documents=[chunk],\n",
        "                embeddings=[emb.tolist()],\n",
        "                metadatas=[{\"chunk_id\": i}],\n",
        "                ids=[str(i)]\n",
        "            )\n",
        "            time.sleep(0.1)  # rate limit önleme\n",
        "        except Exception as e:\n",
        "            print(f\"⚠️ Chunk {i} embedding hatası:\", e)\n",
        "    print(\"✅ Embeddingler başarıyla oluşturuldu.\")\n",
        "else:\n",
        "    print(\"✅ Chroma veritabanı zaten dolu, yükleniyor.\")\n",
        "\n",
        "# ============================================\n",
        "# 5️⃣ Retrieval fonksiyonu\n",
        "# ============================================\n",
        "def retrieve(query, top_k=2):\n",
        "    try:\n",
        "        query_emb = np.array(\n",
        "            genai.embed_content(model=EMBED_MODEL, content=query)[\"embedding\"],\n",
        "            dtype=\"float32\"\n",
        "        )\n",
        "        results = collection.query(\n",
        "            query_embeddings=[query_emb.tolist()],\n",
        "            n_results=top_k\n",
        "        )\n",
        "        docs = results.get(\"documents\", [[]])[0]\n",
        "        return docs\n",
        "    except Exception as e:\n",
        "        print(\"⚠️ Retrieval hatası:\", e)\n",
        "        return []\n",
        "\n",
        "# ============================================\n",
        "# 6️⃣ LLM ile cevap üretimi\n",
        "# ============================================\n",
        "from google.generativeai import GenerativeModel\n",
        "model = genai.GenerativeModel(LLM_MODEL)\n",
        "\n",
        "def answer_query(query, top_k=2):\n",
        "    context_docs = retrieve(query, top_k)\n",
        "    if not context_docs:\n",
        "        return \"⚠️ İlgili bilgi bulunamadı.\"\n",
        "\n",
        "    context_text = \"\\n\\n\".join(context_docs)\n",
        "    prompt = f\"\"\"\n",
        "Aşağıdaki bağlamı kullanarak kullanıcı sorusuna Türkçe olarak net bir cevap ver.\n",
        "\n",
        "Bağlam:\n",
        "{context_text}\n",
        "\n",
        "Soru:\n",
        "{query}\n",
        "\n",
        "Cevap:\n",
        "\"\"\"\n",
        "    try:\n",
        "        response = model.generate_content(prompt)\n",
        "        return getattr(response, \"text\", str(response)).strip()\n",
        "    except Exception as e:\n",
        "        return f\"⚠️ LLM hatası: {e}\"\n",
        "\n",
        "# ============================================\n",
        "# 7️⃣ Gradio arayüzü\n",
        "# ============================================\n",
        "import gradio as gr\n",
        "\n",
        "# Chat fonksiyonu\n",
        "def chat_fn(message, history):\n",
        "    reply = answer_query(message)  # RAG + LLM fonksiyonu\n",
        "    if \"ilgili bilgi bulunamadı\" in reply:\n",
        "        reply += \"\\n\\n💡 Genel Bilgi: 5S uygulamalarında sık yapılan hatalar; standartları güncel tutmamak, görsel yönetimi ihmal etmek, çalışanları eğitmemek, düzeni sürdürememek gibi durumlar olabilir.\"\n",
        "    history.append((message, reply))\n",
        "    return history\n",
        "\n",
        "# Arayüz\n",
        "with gr.Blocks(theme=gr.themes.Soft()) as chat_demo:\n",
        "    gr.Markdown(\"## 💬 5S & Kaizen Öğretici Chatbot\")\n",
        "    gr.Markdown(\"Sorunu yaz ve gönder!\")\n",
        "\n",
        "    chat_box = gr.Chatbot(label=\"Sohbet\")\n",
        "    user_input = gr.Textbox(placeholder=\"Sorunu yaz...\")\n",
        "    submit_btn = gr.Button(\"🚀 Gönder\")\n",
        "\n",
        "    submit_btn.click(chat_fn, inputs=[user_input, chat_box], outputs=chat_box)\n",
        "\n",
        "chat_demo.launch(debug=True, share=True)"
      ],
      "metadata": {
        "id": "pvOIBLPoTDSu",
        "colab": {
          "base_uri": "https://localhost:8080/",
          "height": 906
        },
        "outputId": "b0373351-e928-4641-f32c-60e853e056ec"
      },
      "execution_count": 9,
      "outputs": [
        {
          "output_type": "stream",
          "name": "stderr",
          "text": [
            "WARNING:pdfminer.pdffont:Could get FontBBox from font descriptor because None cannot be parsed as 4 floats\n",
            "WARNING:pdfminer.pdffont:Could get FontBBox from font descriptor because None cannot be parsed as 4 floats\n",
            "WARNING:pdfminer.pdffont:Could get FontBBox from font descriptor because None cannot be parsed as 4 floats\n",
            "WARNING:pdfminer.pdffont:Could get FontBBox from font descriptor because None cannot be parsed as 4 floats\n",
            "WARNING:pdfminer.pdffont:Could get FontBBox from font descriptor because None cannot be parsed as 4 floats\n",
            "WARNING:pdfminer.pdffont:Could get FontBBox from font descriptor because None cannot be parsed as 4 floats\n",
            "WARNING:pdfminer.pdffont:Could get FontBBox from font descriptor because None cannot be parsed as 4 floats\n",
            "WARNING:pdfminer.pdffont:Could get FontBBox from font descriptor because None cannot be parsed as 4 floats\n"
          ]
        },
        {
          "output_type": "stream",
          "name": "stdout",
          "text": [
            "Drive already mounted at /content/drive; to attempt to forcibly remount, call drive.mount(\"/content/drive\", force_remount=True).\n"
          ]
        },
        {
          "output_type": "stream",
          "name": "stderr",
          "text": [
            "WARNING:pdfminer.pdffont:Could get FontBBox from font descriptor because None cannot be parsed as 4 floats\n",
            "WARNING:pdfminer.pdffont:Could get FontBBox from font descriptor because None cannot be parsed as 4 floats\n"
          ]
        },
        {
          "output_type": "stream",
          "name": "stdout",
          "text": [
            "📄 PDF 6 chunk'a bölündü.\n",
            "✅ Chroma veritabanı zaten dolu, yükleniyor.\n"
          ]
        },
        {
          "output_type": "stream",
          "name": "stderr",
          "text": [
            "/tmp/ipython-input-2860022087.py:146: UserWarning: You have not specified a value for the `type` parameter. Defaulting to the 'tuples' format for chatbot messages, but this is deprecated and will be removed in a future version of Gradio. Please set type='messages' instead, which uses openai-style dictionaries with 'role' and 'content' keys.\n",
            "  chat_box = gr.Chatbot(label=\"Sohbet\")\n"
          ]
        },
        {
          "output_type": "stream",
          "name": "stdout",
          "text": [
            "Colab notebook detected. This cell will run indefinitely so that you can see errors and logs. To turn off, set debug=False in launch().\n",
            "* Running on public URL: https://cadfd4663b9f61b3fd.gradio.live\n",
            "\n",
            "This share link expires in 1 week. For free permanent hosting and GPU upgrades, run `gradio deploy` from the terminal in the working directory to deploy to Hugging Face Spaces (https://huggingface.co/spaces)\n"
          ]
        },
        {
          "output_type": "display_data",
          "data": {
            "text/plain": [
              "<IPython.core.display.HTML object>"
            ],
            "text/html": [
              "<div><iframe src=\"https://cadfd4663b9f61b3fd.gradio.live\" width=\"100%\" height=\"500\" allow=\"autoplay; camera; microphone; clipboard-read; clipboard-write;\" frameborder=\"0\" allowfullscreen></iframe></div>"
            ]
          },
          "metadata": {}
        },
        {
          "output_type": "stream",
          "name": "stdout",
          "text": [
            "Keyboard interruption in main thread... closing server.\n",
            "Killing tunnel 127.0.0.1:7860 <> https://cadfd4663b9f61b3fd.gradio.live\n"
          ]
        },
        {
          "output_type": "execute_result",
          "data": {
            "text/plain": []
          },
          "metadata": {},
          "execution_count": 9
        }
      ]
    }
  ]
}