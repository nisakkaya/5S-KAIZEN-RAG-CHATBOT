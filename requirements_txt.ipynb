{
  "nbformat": 4,
  "nbformat_minor": 0,
  "metadata": {
    "colab": {
      "private_outputs": true,
      "provenance": [],
      "toc_visible": true
    },
    "kernelspec": {
      "name": "python3",
      "display_name": "Python 3"
    },
    "language_info": {
      "name": "python"
    }
  },
  "cells": [
    {
      "cell_type": "code",
      "execution_count": null,
      "metadata": {
        "id": "XvegALueK24O"
      },
      "outputs": [],
      "source": [
        "packages = \"\"\"\n",
        "gradio\n",
        "langchain\n",
        "chromadb\n",
        "google-generativeai\n",
        "pdfplumber\n",
        "numpy\n",
        "tqdm\n",
        "\n",
        "\"\"\"\n",
        "\n",
        "with open(\"requirements.txt\", \"w\") as f:\n",
        "    f.write(packages)\n",
        "\n",
        "print(\"✅ requirements.txt oluşturuldu!\")\n"
      ]
    }
  ]
}